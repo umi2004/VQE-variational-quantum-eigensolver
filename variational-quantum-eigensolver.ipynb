{
  "cells": [
    {
      "cell_type": "markdown",
      "id": "c99f20bb",
      "metadata": {
        "id": "c99f20bb"
      },
      "source": [
        "*This is from the IBM Tutorial. Mainly adding some of my notes in this notebook.*"
      ]
    },
    {
      "cell_type": "markdown",
      "id": "a6f69b77",
      "metadata": {
        "id": "a6f69b77"
      },
      "source": [
        "*Estimated QPU usage: 73 minutes (tested on IBM Kyiv)*\n",
        "\n",
        "## Background\n",
        "\n",
        "[Variational quantum algorithms](https://arxiv.org/abs/2012.09265) are promising candidate hybrid-algorithms for observing quantum computation utility on noisy near-term devices. Variational algorithms are characterized by the use of a classical optimization algorithm to iteratively update a parameterized trial solution, or \"ansatz\". Chief among these methods is the Variational Quantum Eigensolver (VQE) that aims to solve for the ground state of a given Hamiltonian represented as a linear combination of Pauli terms, with an ansatz circuit where the number of parameters to optimize over is polynomial in the number of qubits.  Given that the size of the full solution vector is exponential in the number of qubits, successful minimization using VQE requires, in general, additional problem-specific information to define the structure of the ansatz circuit.\n",
        "\n",
        "Executing a VQE algorithm requires the following components:\n",
        "\n",
        "1. Hamiltonian and ansatz (problem specification)\n",
        "2. Qiskit Runtime estimator\n",
        "3. Classical optimizer\n",
        "\n",
        "Although the Hamiltonian and ansatz require domain-specific knowledge to construct, these details are immaterial to the Runtime, and we can execute a wide class of VQE problems in the same manner.\n"
      ]
    },
    {
      "cell_type": "markdown",
      "id": "61c9cf4e",
      "metadata": {
        "id": "61c9cf4e"
      },
      "source": [
        "### **Note 1 (by Umi)**:\n",
        "\n",
        "*VQA (Variational Quantum Algorithms) use classical optimization algorithm to iteratively update and refine a parameterized trial solution (ansatz) These algorithms help to demonstrate the potential utility of quantum computation on noisy devices.*\n",
        "\n",
        "*From many methods of VQA, a popular one is VQE (Variational Quantum Eigensolver). It aims to find the ground state energy of a Hamiltonian using an ansatz circuit, where the number of parameters to optimize scales polynomially with the number of qubits. If the scaling were exponential in the number of qubits, the VQE would require significantly more computational resources.*  \n",
        "\n",
        "*The step to run a VQE needs:*\n",
        "1. Define Hamiltonian and an ansatz (parameterized trial solution)\n",
        "2. Use runtime estimator to evaluate the energy based on the given parameters.\n",
        "3. Employ classical optimizer to iteratively update and refine a solution"
      ]
    },
    {
      "cell_type": "markdown",
      "id": "55b94021",
      "metadata": {
        "id": "55b94021"
      },
      "source": [
        "## Requirements\n",
        "\n",
        "Before starting this tutorial, ensure that you have the following installed:\n",
        "\n",
        "* Qiskit SDK 1.0 or later, with visualization support (`pip install 'qiskit[visualization]'`)\n",
        "* Qiskit Runtime 0.22 or later(`pip install qiskit-ibm-runtime`)\n"
      ]
    },
    {
      "cell_type": "code",
      "execution_count": null,
      "id": "98c483d2",
      "metadata": {
        "collapsed": true,
        "colab": {
          "base_uri": "https://localhost:8080/"
        },
        "id": "98c483d2",
        "outputId": "ed0abdca-5aca-453e-d93c-ae83568ace5f"
      },
      "outputs": [
        {
          "output_type": "stream",
          "name": "stdout",
          "text": [
            "Requirement already satisfied: qiskit[visualization] in /usr/local/lib/python3.10/dist-packages (1.3.1)\n",
            "Requirement already satisfied: rustworkx>=0.15.0 in /usr/local/lib/python3.10/dist-packages (from qiskit[visualization]) (0.15.1)\n",
            "Requirement already satisfied: numpy<3,>=1.17 in /usr/local/lib/python3.10/dist-packages (from qiskit[visualization]) (1.26.4)\n",
            "Requirement already satisfied: scipy>=1.5 in /usr/local/lib/python3.10/dist-packages (from qiskit[visualization]) (1.13.1)\n",
            "Requirement already satisfied: sympy>=1.3 in /usr/local/lib/python3.10/dist-packages (from qiskit[visualization]) (1.13.1)\n",
            "Requirement already satisfied: dill>=0.3 in /usr/local/lib/python3.10/dist-packages (from qiskit[visualization]) (0.3.9)\n",
            "Requirement already satisfied: python-dateutil>=2.8.0 in /usr/local/lib/python3.10/dist-packages (from qiskit[visualization]) (2.8.2)\n",
            "Requirement already satisfied: stevedore>=3.0.0 in /usr/local/lib/python3.10/dist-packages (from qiskit[visualization]) (5.4.0)\n",
            "Requirement already satisfied: typing-extensions in /usr/local/lib/python3.10/dist-packages (from qiskit[visualization]) (4.12.2)\n",
            "Requirement already satisfied: symengine<0.14,>=0.11 in /usr/local/lib/python3.10/dist-packages (from qiskit[visualization]) (0.13.0)\n",
            "Requirement already satisfied: matplotlib>=3.3 in /usr/local/lib/python3.10/dist-packages (from qiskit[visualization]) (3.8.0)\n",
            "Requirement already satisfied: pydot in /usr/local/lib/python3.10/dist-packages (from qiskit[visualization]) (3.0.3)\n",
            "Requirement already satisfied: Pillow>=4.2.1 in /usr/local/lib/python3.10/dist-packages (from qiskit[visualization]) (11.0.0)\n",
            "Requirement already satisfied: pylatexenc>=1.4 in /usr/local/lib/python3.10/dist-packages (from qiskit[visualization]) (2.10)\n",
            "Requirement already satisfied: seaborn>=0.9.0 in /usr/local/lib/python3.10/dist-packages (from qiskit[visualization]) (0.13.2)\n",
            "Requirement already satisfied: contourpy>=1.0.1 in /usr/local/lib/python3.10/dist-packages (from matplotlib>=3.3->qiskit[visualization]) (1.3.1)\n",
            "Requirement already satisfied: cycler>=0.10 in /usr/local/lib/python3.10/dist-packages (from matplotlib>=3.3->qiskit[visualization]) (0.12.1)\n",
            "Requirement already satisfied: fonttools>=4.22.0 in /usr/local/lib/python3.10/dist-packages (from matplotlib>=3.3->qiskit[visualization]) (4.55.3)\n",
            "Requirement already satisfied: kiwisolver>=1.0.1 in /usr/local/lib/python3.10/dist-packages (from matplotlib>=3.3->qiskit[visualization]) (1.4.7)\n",
            "Requirement already satisfied: packaging>=20.0 in /usr/local/lib/python3.10/dist-packages (from matplotlib>=3.3->qiskit[visualization]) (24.2)\n",
            "Requirement already satisfied: pyparsing>=2.3.1 in /usr/local/lib/python3.10/dist-packages (from matplotlib>=3.3->qiskit[visualization]) (3.2.0)\n",
            "Requirement already satisfied: six>=1.5 in /usr/local/lib/python3.10/dist-packages (from python-dateutil>=2.8.0->qiskit[visualization]) (1.17.0)\n",
            "Requirement already satisfied: pandas>=1.2 in /usr/local/lib/python3.10/dist-packages (from seaborn>=0.9.0->qiskit[visualization]) (2.2.2)\n",
            "Requirement already satisfied: pbr>=2.0.0 in /usr/local/lib/python3.10/dist-packages (from stevedore>=3.0.0->qiskit[visualization]) (6.1.0)\n",
            "Requirement already satisfied: mpmath<1.4,>=1.1.0 in /usr/local/lib/python3.10/dist-packages (from sympy>=1.3->qiskit[visualization]) (1.3.0)\n",
            "Requirement already satisfied: pytz>=2020.1 in /usr/local/lib/python3.10/dist-packages (from pandas>=1.2->seaborn>=0.9.0->qiskit[visualization]) (2024.2)\n",
            "Requirement already satisfied: tzdata>=2022.7 in /usr/local/lib/python3.10/dist-packages (from pandas>=1.2->seaborn>=0.9.0->qiskit[visualization]) (2024.2)\n",
            "Requirement already satisfied: qiskit-ibm-runtime in /usr/local/lib/python3.10/dist-packages (0.34.0)\n",
            "Requirement already satisfied: requests>=2.19 in /usr/local/lib/python3.10/dist-packages (from qiskit-ibm-runtime) (2.32.3)\n",
            "Requirement already satisfied: requests-ntlm>=1.1.0 in /usr/local/lib/python3.10/dist-packages (from qiskit-ibm-runtime) (1.3.0)\n",
            "Requirement already satisfied: numpy>=1.13 in /usr/local/lib/python3.10/dist-packages (from qiskit-ibm-runtime) (1.26.4)\n",
            "Requirement already satisfied: urllib3>=1.21.1 in /usr/local/lib/python3.10/dist-packages (from qiskit-ibm-runtime) (2.2.3)\n",
            "Requirement already satisfied: python-dateutil>=2.8.0 in /usr/local/lib/python3.10/dist-packages (from qiskit-ibm-runtime) (2.8.2)\n",
            "Requirement already satisfied: websocket-client>=1.5.1 in /usr/local/lib/python3.10/dist-packages (from qiskit-ibm-runtime) (1.8.0)\n",
            "Requirement already satisfied: ibm-platform-services>=0.22.6 in /usr/local/lib/python3.10/dist-packages (from qiskit-ibm-runtime) (0.59.0)\n",
            "Requirement already satisfied: pydantic<2.10,>=2.5.0 in /usr/local/lib/python3.10/dist-packages (from qiskit-ibm-runtime) (2.9.2)\n",
            "Requirement already satisfied: qiskit>=1.1.0 in /usr/local/lib/python3.10/dist-packages (from qiskit-ibm-runtime) (1.3.1)\n",
            "Requirement already satisfied: ibm-cloud-sdk-core<4.0.0,>=3.22.0 in /usr/local/lib/python3.10/dist-packages (from ibm-platform-services>=0.22.6->qiskit-ibm-runtime) (3.22.0)\n",
            "Requirement already satisfied: annotated-types>=0.6.0 in /usr/local/lib/python3.10/dist-packages (from pydantic<2.10,>=2.5.0->qiskit-ibm-runtime) (0.7.0)\n",
            "Requirement already satisfied: pydantic-core==2.23.4 in /usr/local/lib/python3.10/dist-packages (from pydantic<2.10,>=2.5.0->qiskit-ibm-runtime) (2.23.4)\n",
            "Requirement already satisfied: typing-extensions>=4.6.1 in /usr/local/lib/python3.10/dist-packages (from pydantic<2.10,>=2.5.0->qiskit-ibm-runtime) (4.12.2)\n",
            "Requirement already satisfied: six>=1.5 in /usr/local/lib/python3.10/dist-packages (from python-dateutil>=2.8.0->qiskit-ibm-runtime) (1.17.0)\n",
            "Requirement already satisfied: rustworkx>=0.15.0 in /usr/local/lib/python3.10/dist-packages (from qiskit>=1.1.0->qiskit-ibm-runtime) (0.15.1)\n",
            "Requirement already satisfied: scipy>=1.5 in /usr/local/lib/python3.10/dist-packages (from qiskit>=1.1.0->qiskit-ibm-runtime) (1.13.1)\n",
            "Requirement already satisfied: sympy>=1.3 in /usr/local/lib/python3.10/dist-packages (from qiskit>=1.1.0->qiskit-ibm-runtime) (1.13.1)\n",
            "Requirement already satisfied: dill>=0.3 in /usr/local/lib/python3.10/dist-packages (from qiskit>=1.1.0->qiskit-ibm-runtime) (0.3.9)\n",
            "Requirement already satisfied: stevedore>=3.0.0 in /usr/local/lib/python3.10/dist-packages (from qiskit>=1.1.0->qiskit-ibm-runtime) (5.4.0)\n",
            "Requirement already satisfied: symengine<0.14,>=0.11 in /usr/local/lib/python3.10/dist-packages (from qiskit>=1.1.0->qiskit-ibm-runtime) (0.13.0)\n",
            "Requirement already satisfied: charset-normalizer<4,>=2 in /usr/local/lib/python3.10/dist-packages (from requests>=2.19->qiskit-ibm-runtime) (3.4.0)\n",
            "Requirement already satisfied: idna<4,>=2.5 in /usr/local/lib/python3.10/dist-packages (from requests>=2.19->qiskit-ibm-runtime) (3.10)\n",
            "Requirement already satisfied: certifi>=2017.4.17 in /usr/local/lib/python3.10/dist-packages (from requests>=2.19->qiskit-ibm-runtime) (2024.12.14)\n",
            "Requirement already satisfied: cryptography>=1.3 in /usr/local/lib/python3.10/dist-packages (from requests-ntlm>=1.1.0->qiskit-ibm-runtime) (43.0.3)\n",
            "Requirement already satisfied: pyspnego>=0.4.0 in /usr/local/lib/python3.10/dist-packages (from requests-ntlm>=1.1.0->qiskit-ibm-runtime) (0.11.2)\n",
            "Requirement already satisfied: cffi>=1.12 in /usr/local/lib/python3.10/dist-packages (from cryptography>=1.3->requests-ntlm>=1.1.0->qiskit-ibm-runtime) (1.17.1)\n",
            "Requirement already satisfied: PyJWT<3.0.0,>=2.8.0 in /usr/local/lib/python3.10/dist-packages (from ibm-cloud-sdk-core<4.0.0,>=3.22.0->ibm-platform-services>=0.22.6->qiskit-ibm-runtime) (2.10.1)\n",
            "Requirement already satisfied: pbr>=2.0.0 in /usr/local/lib/python3.10/dist-packages (from stevedore>=3.0.0->qiskit>=1.1.0->qiskit-ibm-runtime) (6.1.0)\n",
            "Requirement already satisfied: mpmath<1.4,>=1.1.0 in /usr/local/lib/python3.10/dist-packages (from sympy>=1.3->qiskit>=1.1.0->qiskit-ibm-runtime) (1.3.0)\n",
            "Requirement already satisfied: pycparser in /usr/local/lib/python3.10/dist-packages (from cffi>=1.12->cryptography>=1.3->requests-ntlm>=1.1.0->qiskit-ibm-runtime) (2.22)\n"
          ]
        }
      ],
      "source": [
        "!pip install 'qiskit[visualization]'\n",
        "!pip install qiskit-ibm-runtime"
      ]
    },
    {
      "cell_type": "markdown",
      "id": "988ee237",
      "metadata": {
        "id": "988ee237"
      },
      "source": [
        "## Step 1. Map classical inputs to a quantum problem\n",
        "\n",
        "Although the problem instance in question for the VQE algorithm can come from a variety of domains, the form for execution through Qiskit Runtime is the same. Qiskit provides a convenience class for expressing Hamiltonians in Pauli form, and a collection of widely used ansatz circuits in the [`qiskit.circuit.library`](https://docs.quantum-computing.ibm.com/api/qiskit/circuit_library).\n",
        "\n",
        "This example Hamiltonian is derived from a quantum chemistry problem.\n"
      ]
    },
    {
      "cell_type": "markdown",
      "source": [
        "### **Note 2 (by Umi)**:\n",
        "\n",
        "qiskit.circuit.library includes EfficientSU2, a pre-defined ansatz circuit.\n",
        "\n",
        "It is often used in combination with a Hamiltonian in variational quantum algorithms like VQE to approximate the ground state."
      ],
      "metadata": {
        "id": "4w8rxzqZS0Kw"
      },
      "id": "4w8rxzqZS0Kw"
    },
    {
      "cell_type": "markdown",
      "id": "7db2e559",
      "metadata": {
        "id": "7db2e559"
      },
      "source": [
        "### Setup\n",
        "\n",
        "Here we import the tools needed for a VQE experiment.\n"
      ]
    },
    {
      "cell_type": "code",
      "execution_count": null,
      "id": "a0a48442",
      "metadata": {
        "id": "a0a48442"
      },
      "outputs": [],
      "source": [
        "# General imports\n",
        "import numpy as np\n",
        "\n",
        "# Pre-defined ansatz circuit and operator class for Hamiltonian\n",
        "from qiskit.circuit.library import EfficientSU2\n",
        "from qiskit.quantum_info import SparsePauliOp # Creating for Hamiltonian Operator\n",
        "\n",
        "# SciPy minimizer routine\n",
        "from scipy.optimize import minimize # Classical Optimization Algorithms\n",
        "\n",
        "# Plotting functions\n",
        "import matplotlib.pyplot as plt"
      ]
    },
    {
      "cell_type": "code",
      "execution_count": null,
      "id": "bc380c46",
      "metadata": {
        "id": "bc380c46"
      },
      "outputs": [],
      "source": [
        "# runtime imports\n",
        "from qiskit_ibm_runtime import QiskitRuntimeService, Session # QiskitRuntimeService is for accesing the IBM Service (Hardware). Session is for helping executing quantum program (job)\n",
        "from qiskit_ibm_runtime import EstimatorV2 as Estimator # EstimatorV2 is to use runtime estimator to evaluate the energy.\n",
        "\n",
        "# To run on hardware, select the backend with the fewest number of jobs in the queue\n",
        "# We will put the Token to run the service. To get a Token please sign up the IBM Quantum Platform.\n",
        "# Save your API token\n",
        "QiskitRuntimeService.save_account(channel=\"ibm_quantum\", token=\"547295db57b72956611792fdf526bf5c0b3d2c8fbb5acbd6424973381d4dd2430187393b4fcf35c3374e778890347aa4c21b2c1f47d98e905eda8e461da6109b\", overwrite = True)\n",
        "\n",
        "service = QiskitRuntimeService(channel=\"ibm_quantum\") # Access to the IBM Hardware\n",
        "backend = service.least_busy(operational=True, simulator=False) # It helps to find the least busy IBM Hardware"
      ]
    },
    {
      "cell_type": "code",
      "execution_count": null,
      "id": "0ad66539",
      "metadata": {
        "id": "0ad66539"
      },
      "outputs": [],
      "source": [
        "hamiltonian = SparsePauliOp.from_list(\n",
        "    [(\"YZ\", 0.3980), (\"ZI\", -0.3980), (\"ZZ\", -0.0113), (\"XX\", 0.1810)]\n",
        ") # Define Hamiltonian Operator\n",
        "\n",
        "# What those YZ stuff represents? -> It shows the how qubits interact to it.\n",
        "\n",
        "# For example, first term show that pauli Y acts on first qubits and pauli Z acts on second qubits.\n",
        "# This is also similar to other 3 terms\n",
        "\n",
        "# What is number represents like 0.3980? -> It represents the coefficient or specifically name as weight.\n",
        "# How to find that specific number? -> Probably based on the experiment (quantum chemistry) or simulation."
      ]
    },
    {
      "cell_type": "markdown",
      "id": "acb83d48",
      "metadata": {
        "id": "acb83d48"
      },
      "source": [
        "Our choice of ansatz is the `EfficientSU2` that, by default, linearly entangles qubits, making it ideal for quantum hardware with limited connectivity.\n"
      ]
    },
    {
      "cell_type": "code",
      "execution_count": 16,
      "id": "59bffe5e",
      "metadata": {
        "id": "59bffe5e",
        "outputId": "f825a0c3-3513-4b95-9149-e831c49c4e72",
        "colab": {
          "base_uri": "https://localhost:8080/",
          "height": 212
        }
      },
      "outputs": [
        {
          "output_type": "execute_result",
          "data": {
            "text/plain": [
              "<Figure size 1039.79x200.667 with 1 Axes>"
            ],
            "image/png": "[encoded data removed]"
          },
          "metadata": {},
          "execution_count": 16
        }
      ],
      "source": [
        "ansatz = EfficientSU2(hamiltonian.num_qubits)\n",
        "# Define ansatz circuits based on number of qubits that is used in hamiltonian operator. In this case there are two qubits.\n",
        "# What does EfficientSU2 do? -> Based on the number of qubits, it will make an ideal circuit that could helps to find the ground state of the Hamiltonian.\n",
        "\n",
        "ansatz.decompose().draw(\"mpl\", style=\"iqp\")\n",
        "# It will draw the ansatz circuits.\n",
        "# What is decompose() do? -> it will decompose the ansatz circuit into fundamental gates for better visualization.\n",
        "# \"mpl\" -> Means draw by using matplotlib\n",
        "# \"iqp\" -> Specific visualize theme"
      ]
    },
    {
      "cell_type": "markdown",
      "id": "5bd1f7da",
      "metadata": {
        "id": "5bd1f7da"
      },
      "source": [
        "From the previous figure we see that our ansatz circuit is defined by a vector of parameters, $\\theta_{i}$, with the total number given by:\n"
      ]
    },
    {
      "cell_type": "code",
      "execution_count": 17,
      "id": "aa325696",
      "metadata": {
        "id": "aa325696",
        "outputId": "159ab734-7b03-4f6c-855f-28c5eba379c1",
        "colab": {
          "base_uri": "https://localhost:8080/"
        }
      },
      "outputs": [
        {
          "output_type": "execute_result",
          "data": {
            "text/plain": [
              "16"
            ]
          },
          "metadata": {},
          "execution_count": 17
        }
      ],
      "source": [
        "num_params = ansatz.num_parameters\n",
        "num_params\n",
        "# Calculate the number of parameters\n",
        "\n",
        "# What is parameters mean? -> It refers to number of the variables used in parameterized gates (e.g. R_y, R_z)\n",
        "# How to calculate the number of parameters? -> Just count how many gates by looking visually! OR 2 qubits * 8 gates per layer * 1 repetition = 16 parameters!"
      ]
    },
    {
      "cell_type": "markdown",
      "id": "ac6f36e3",
      "metadata": {
        "id": "ac6f36e3"
      },
      "source": [
        "## Step 2. Optimize problem for quantum execution\n"
      ]
    },
    {
      "cell_type": "markdown",
      "id": "ed01c675-6506-4779-bf71-74f0de9212fb",
      "metadata": {
        "id": "ed01c675-6506-4779-bf71-74f0de9212fb"
      },
      "source": [
        "To reduce the total job execution time, Qiskit primitives only accept circuits (ansatz) and observables (Hamiltonian) that conform to the instructions and connectivity supported by the target QPU (referred to as instruction set architecture (ISA) circuits and observables).\n"
      ]
    },
    {
      "cell_type": "markdown",
      "source": [
        "### **Note 3 (by Umi)**:\n",
        "\n",
        "In most programming tasks, we aim for efficient execution. While Python isn't particularly fast, Qiskit compensates by implementing smart optimizations. It analyzes the ansatz and Hamiltonian operator to ensure the code only processes the necessary components. You can think of the ansatz and Hamiltonian as a recipe guiding the computation. Thanks, IBM!"
      ],
      "metadata": {
        "id": "FChZCTz8ZzIx"
      },
      "id": "FChZCTz8ZzIx"
    },
    {
      "cell_type": "markdown",
      "id": "3390069d-572c-472c-abb5-9cde12fd82a2",
      "metadata": {
        "id": "3390069d-572c-472c-abb5-9cde12fd82a2"
      },
      "source": [
        "### ISA circuit\n"
      ]
    },
    {
      "cell_type": "markdown",
      "id": "ad6ddd99-b680-4ac4-b2d8-c0ac6266e6e8",
      "metadata": {
        "id": "ad6ddd99-b680-4ac4-b2d8-c0ac6266e6e8"
      },
      "source": [
        "Schedule a series of [`qiskit.transpiler`](https://docs.quantum-computing.ibm.com/api/qiskit/transpiler) passes to optimize the circuit for a selected backend and make it compatible with the backend's ISA. This can be easily done with a preset pass manager from `qiskit.transpiler` and its `optimization_level` parameter.\n",
        "\n",
        "The lowest optimization level does the minimum needed to get the circuit running on the device; it maps the circuit qubits to the device qubits and adds swap gates to allow all two-qubit operations. The highest optimization level is much smarter and uses lots of tricks to reduce the overall gate count. Since multi-qubit gates have high error rates and qubits decohere over time, the shorter circuits should give better results.\n"
      ]
    },
    {
      "cell_type": "markdown",
      "source": [
        "### **Note 4 (by Umi)**:\n",
        "\n",
        "Based on the selected least busy hardware, Qiskit's transpiler helps to optimize the quantum circuit for that specific device.\n",
        "\n",
        "The level of optimization level varies how fast and tricks to reduce the gate count.\n",
        "\n",
        "In our case, we have multi-qubit gates so we have high error rates and decohere over time so it will be better to have a shorter circuits and it gives better results."
      ],
      "metadata": {
        "id": "utRQPZRcaFdl"
      },
      "id": "utRQPZRcaFdl"
    },
    {
      "cell_type": "code",
      "execution_count": 19,
      "id": "1834cb22",
      "metadata": {
        "id": "1834cb22"
      },
      "outputs": [],
      "source": [
        "from qiskit.transpiler.preset_passmanagers import generate_preset_pass_manager\n",
        "# import the Qiskit transpiler\n",
        "\n",
        "\n",
        "target = backend.target # select the hardware that we used previously.\n",
        "pm = generate_preset_pass_manager(target=target, optimization_level=3)\n",
        "# before running, setting up the optimization based on the hardware(target) and level of optimization.\n",
        "\n",
        "ansatz_isa = pm.run(ansatz)\n",
        "# Generate."
      ]
    },
    {
      "cell_type": "code",
      "execution_count": 23,
      "id": "20d9923c",
      "metadata": {
        "id": "20d9923c",
        "outputId": "c2c25306-10e2-4c28-ee9b-b028ffec2fb5",
        "colab": {
          "base_uri": "https://localhost:8080/",
          "height": 416
        }
      },
      "outputs": [
        {
          "output_type": "execute_result",
          "data": {
            "text/plain": [
              "<Figure size 2281.46x451.5 with 1 Axes>"
            ],
            "image/png": "[encoded data removed]"
          },
          "metadata": {},
          "execution_count": 23
        }
      ],
      "source": [
        "ansatz_isa.draw(output=\"mpl\", idle_wires=False, style=\"iqp\")\n",
        "# Draw the optimize version\n",
        "\n",
        "# idle_wires -> hide all the wires that have no operations.\n",
        "# Don't try to make it True! It will cause a long runtime, which I did and regretted"
      ]
    },
    {
      "cell_type": "markdown",
      "id": "aab9e309-d643-496f-ad4b-c90173102ad6",
      "metadata": {
        "id": "aab9e309-d643-496f-ad4b-c90173102ad6"
      },
      "source": [
        "### ISA observable\n"
      ]
    },
    {
      "cell_type": "markdown",
      "id": "6c9e5dcd",
      "metadata": {
        "id": "6c9e5dcd"
      },
      "source": [
        "Transform the Hamiltonian to make it backend-compatible before running jobs with [`Runtime Estimator V2`](https://docs.quantum.ibm.com/api/qiskit-ibm-runtime/qiskit_ibm_runtime.EstimatorV2#run). Perform the transformation by using the `apply_layout` method of `SparsePauliOp` object.\n"
      ]
    },
    {
      "cell_type": "code",
      "execution_count": 24,
      "id": "3451901c",
      "metadata": {
        "id": "3451901c"
      },
      "outputs": [],
      "source": [
        "hamiltonian_isa = hamiltonian.apply_layout(layout=ansatz_isa.layout)\n",
        "# Apply the optimized layout of the ansatz circuit to the Hamiltonian operator.\n",
        "# This ensures the Hamiltonian is transformed to align with the optimized circuit layout."
      ]
    },
    {
      "cell_type": "markdown",
      "id": "b4d480b3",
      "metadata": {
        "id": "b4d480b3"
      },
      "source": [
        "## Step 3. Execute using Qiskit Primitives\n",
        "\n",
        "Like many classical optimization problems, the solution to a VQE problem can be formulated as minimization of a scalar cost function.  By definition, VQE looks to find the ground state solution to a Hamiltonian by optimizing the ansatz circuit parameters to minimize the expectation value (energy) of the Hamiltonian.  With the Qiskit Runtime [`Estimator`](https://docs.quantum.ibm.com/api/qiskit-ibm-runtime/qiskit_ibm_runtime.EstimatorV2) directly taking a Hamiltonian and parameterized ansatz, and returning the necessary energy, the cost function for a VQE instance is quite simple.\n",
        "\n",
        "Note that the `run()` method of [Qiskit Runtime `EstimatorV2`](https://docs.quantum.ibm.com/api/qiskit-ibm-runtime/qiskit_ibm_runtime.EstimatorV2)  takes an iterable of `primitive unified blocs (PUBs)`. Each PUB is an iterable in the format `(circuit, observables, parameter_values: Optional, precision: Optional)`.\n"
      ]
    },
    {
      "cell_type": "code",
      "execution_count": null,
      "id": "b22a1b00",
      "metadata": {
        "id": "b22a1b00"
      },
      "outputs": [],
      "source": [
        "def cost_func(params, ansatz, hamiltonian, estimator):\n",
        "    \"\"\"Return estimate of energy from estimator\n",
        "\n",
        "    Parameters:\n",
        "        params (ndarray): Array of ansatz parameters\n",
        "        ansatz (QuantumCircuit): Parameterized ansatz circuit\n",
        "        hamiltonian (SparsePauliOp): Operator representation of Hamiltonian\n",
        "        estimator (EstimatorV2): Estimator primitive instance\n",
        "        cost_history_dict: Dictionary for storing intermediate results\n",
        "\n",
        "    Returns:\n",
        "        float: Energy estimate\n",
        "    \"\"\"\n",
        "    pub = (ansatz, [hamiltonian], [params])\n",
        "    result = estimator.run(pubs=[pub]).result()\n",
        "    energy = result[0].data.evs[0]\n",
        "\n",
        "    cost_history_dict[\"iters\"] += 1\n",
        "    cost_history_dict[\"prev_vector\"] = params\n",
        "    cost_history_dict[\"cost_history\"].append(energy)\n",
        "    print(f\"Iters. done: {cost_history_dict['iters']} [Current cost: {energy}]\")\n",
        "\n",
        "    return energy"
      ]
    },
    {
      "cell_type": "markdown",
      "id": "179ba2c4",
      "metadata": {
        "id": "179ba2c4"
      },
      "source": [
        "Note that, in addition to the array of optimization parameters that must be the first argument, we use additional arguments to pass the terms needed in the cost function, such as the `cost_history_dict`. This dictionary stores the current vector at each iteration, for example in case you need to restart the routine due to failure, and also returns the current iteration number and average time per iteration.\n"
      ]
    },
    {
      "cell_type": "code",
      "execution_count": null,
      "id": "a6bc1ade",
      "metadata": {
        "id": "a6bc1ade"
      },
      "outputs": [],
      "source": [
        "cost_history_dict = {\n",
        "    \"prev_vector\": None,\n",
        "    \"iters\": 0,\n",
        "    \"cost_history\": [],\n",
        "}"
      ]
    },
    {
      "cell_type": "markdown",
      "id": "e80ff7d9",
      "metadata": {
        "id": "e80ff7d9"
      },
      "source": [
        "We can now use a classical optimizer of our choice to minimize the cost function. Here, we use the [COBYLA routine from SciPy through the `minimize` function](https://docs.scipy.org/doc/scipy/reference/generated/scipy.optimize.minimize.html). Note that when running on real quantum hardware, the choice of optimizer is important, as not all optimizers handle noisy cost function landscapes equally well.\n",
        "\n",
        "To begin the routine, specify a random initial set of parameters:\n"
      ]
    },
    {
      "cell_type": "code",
      "execution_count": null,
      "id": "d6b90cca",
      "metadata": {
        "id": "d6b90cca"
      },
      "outputs": [],
      "source": [
        "x0 = 2 * np.pi * np.random.random(num_params)"
      ]
    },
    {
      "cell_type": "code",
      "execution_count": null,
      "id": "d4587c1d-5d59-47aa-b36c-b6d07b5f84e4",
      "metadata": {
        "id": "d4587c1d-5d59-47aa-b36c-b6d07b5f84e4",
        "outputId": "f1b674ef-1e92-4621-d911-1c281e7bff5e"
      },
      "outputs": [
        {
          "data": {
            "text/plain": [
              "array([2.51632747, 0.41779892, 5.85800259, 4.83749838, 3.20828874,\n",
              "       5.23058321, 0.23909191, 5.93347588, 0.98307886, 5.8564212 ,\n",
              "       3.41519817, 2.07444879, 0.7790487 , 0.72421971, 1.09848722,\n",
              "       3.31663941])"
            ]
          },
          "execution_count": 12,
          "metadata": {},
          "output_type": "execute_result"
        }
      ],
      "source": [
        "x0"
      ]
    },
    {
      "cell_type": "markdown",
      "id": "67d09ca9",
      "metadata": {
        "id": "67d09ca9"
      },
      "source": [
        "Because we are sending a large number of jobs that we would like to execute together, we use a [`Session`](https://docs.quantum-computing.ibm.com/api/qiskit-ibm-runtime/qiskit_ibm_runtime.Session) to execute all the generated circuits in one block.  Here `args` is the standard SciPy way to supply the additional parameters needed by the cost function.\n"
      ]
    },
    {
      "cell_type": "code",
      "execution_count": null,
      "id": "61a802d2-5c58-4495-a617-f15fabef367e",
      "metadata": {
        "id": "61a802d2-5c58-4495-a617-f15fabef367e",
        "outputId": "e785339e-6703-42d6-a50f-28c6573054a9"
      },
      "outputs": [
        {
          "name": "stdout",
          "output_type": "stream",
          "text": [
            "Iters. done: 1 [Current cost: -0.41297466987766457]\n",
            "Iters. done: 2 [Current cost: -0.4074417945791059]\n",
            "Iters. done: 3 [Current cost: -0.3547606824167446]\n",
            "Iters. done: 4 [Current cost: -0.28168907720107683]\n",
            "Iters. done: 5 [Current cost: -0.4578159863650208]\n",
            "Iters. done: 6 [Current cost: -0.3086594190935841]\n",
            "Iters. done: 7 [Current cost: -0.15483382641187454]\n",
            "Iters. done: 8 [Current cost: -0.5349854031388536]\n",
            "Iters. done: 9 [Current cost: -0.3895567829431972]\n",
            "Iters. done: 10 [Current cost: -0.4820250378135054]\n",
            "Iters. done: 11 [Current cost: -0.18395917730188865]\n",
            "Iters. done: 12 [Current cost: -0.5311791591751455]\n",
            "Iters. done: 13 [Current cost: -0.49602925858832053]\n",
            "Iters. done: 14 [Current cost: -0.3482916173440449]\n",
            "Iters. done: 15 [Current cost: -0.5668230348151325]\n",
            "Iters. done: 16 [Current cost: -0.521882967057639]\n",
            "Iters. done: 17 [Current cost: -0.26976382760304113]\n",
            "Iters. done: 18 [Current cost: -0.051127606468041646]\n",
            "Iters. done: 19 [Current cost: -0.5213490424900524]\n",
            "Iters. done: 20 [Current cost: -0.5519837695254404]\n",
            "Iters. done: 21 [Current cost: -0.5729754281424254]\n",
            "Iters. done: 22 [Current cost: -0.5369152381529558]\n",
            "Iters. done: 23 [Current cost: -0.54862310847568]\n",
            "Iters. done: 24 [Current cost: -0.5843821664926876]\n",
            "Iters. done: 25 [Current cost: -0.58018047409157]\n",
            "Iters. done: 26 [Current cost: -0.5153040139793709]\n",
            "Iters. done: 27 [Current cost: -0.5950601168931274]\n",
            "Iters. done: 28 [Current cost: -0.5919884877771185]\n",
            "Iters. done: 29 [Current cost: -0.6295788565552562]\n",
            "Iters. done: 30 [Current cost: -0.5909207781822071]\n",
            "Iters. done: 31 [Current cost: -0.6029330648206948]\n",
            "Iters. done: 32 [Current cost: -0.5731453720567535]\n",
            "Iters. done: 33 [Current cost: -0.6017005875653386]\n",
            "Iters. done: 34 [Current cost: -0.6061613567553928]\n",
            "Iters. done: 35 [Current cost: -0.5527009036762591]\n",
            "Iters. done: 36 [Current cost: -0.6174016810951264]\n",
            "Iters. done: 37 [Current cost: -0.5331013786620393]\n",
            "Iters. done: 38 [Current cost: -0.6174716771227629]\n",
            "Iters. done: 39 [Current cost: -0.5256692009209388]\n",
            "Iters. done: 40 [Current cost: -0.5936376314600634]\n",
            "Iters. done: 41 [Current cost: -0.6174496293908639]\n",
            "Iters. done: 42 [Current cost: -0.6415583284028612]\n",
            "Iters. done: 43 [Current cost: -0.6568655223778936]\n",
            "Iters. done: 44 [Current cost: -0.6252111792327242]\n",
            "Iters. done: 45 [Current cost: -0.6588010261150293]\n",
            "Iters. done: 46 [Current cost: -0.6031535817582718]\n",
            "Iters. done: 47 [Current cost: -0.6448573357168782]\n",
            "Iters. done: 48 [Current cost: -0.6314357577602281]\n",
            "Iters. done: 49 [Current cost: -0.6310360137350473]\n",
            "Iters. done: 50 [Current cost: -0.6311716934542182]\n",
            "Iters. done: 51 [Current cost: -0.6195122556941205]\n",
            "Iters. done: 52 [Current cost: -0.6052709851652176]\n",
            "Iters. done: 53 [Current cost: -0.6353235502797585]\n",
            "Iters. done: 54 [Current cost: -0.6172917549286481]\n",
            "Iters. done: 55 [Current cost: -0.6157291352122161]\n",
            "Iters. done: 56 [Current cost: -0.6250258800660834]\n",
            "Iters. done: 57 [Current cost: -0.6238737928804968]\n",
            "Iters. done: 58 [Current cost: -0.6331336376123765]\n",
            "Iters. done: 59 [Current cost: -0.6174795053010914]\n",
            "Iters. done: 60 [Current cost: -0.6286114171740883]\n",
            "Iters. done: 61 [Current cost: -0.6289541704111539]\n",
            "Iters. done: 62 [Current cost: -0.6214988287789815]\n",
            "Iters. done: 63 [Current cost: -0.6349088785327752]\n",
            "Iters. done: 64 [Current cost: -0.6434368257074341]\n",
            "Iters. done: 65 [Current cost: -0.6435758714276368]\n",
            "Iters. done: 66 [Current cost: -0.6392426194852974]\n",
            "Iters. done: 67 [Current cost: -0.6395388664428873]\n",
            "Iters. done: 68 [Current cost: -0.6288383465181286]\n",
            "Iters. done: 69 [Current cost: -0.6396744408945687]\n",
            "Iters. done: 70 [Current cost: -0.6313800275882947]\n",
            "Iters. done: 71 [Current cost: -0.6253344175379661]\n",
            "Iters. done: 72 [Current cost: -0.6157835899181318]\n",
            "Iters. done: 73 [Current cost: -0.6335140148162095]\n",
            "Iters. done: 74 [Current cost: -0.6314904503216308]\n",
            "Iters. done: 75 [Current cost: -0.6400032416620431]\n",
            "Iters. done: 76 [Current cost: -0.6467193690082172]\n",
            "Iters. done: 77 [Current cost: -0.6274062557744253]\n",
            "Iters. done: 78 [Current cost: -0.6382220718392321]\n",
            "Iters. done: 79 [Current cost: -0.6353720791573834]\n",
            "Iters. done: 80 [Current cost: -0.6559597232796966]\n",
            "Iters. done: 81 [Current cost: -0.6483482402979868]\n",
            "Iters. done: 82 [Current cost: -0.6362917844251428]\n",
            "Iters. done: 83 [Current cost: -0.638689906716738]\n",
            "Iters. done: 84 [Current cost: -0.6398683206762882]\n",
            "Iters. done: 85 [Current cost: -0.6411425890703265]\n",
            "Iters. done: 86 [Current cost: -0.6420124690404581]\n",
            "Iters. done: 87 [Current cost: -0.6361424203927645]\n",
            "Iters. done: 88 [Current cost: -0.6304230811374153]\n",
            "Iters. done: 89 [Current cost: -0.6460686380415002]\n",
            "Iters. done: 90 [Current cost: -0.6393627867774831]\n",
            "Iters. done: 91 [Current cost: -0.6353801863066766]\n",
            "Iters. done: 92 [Current cost: -0.6370827028067767]\n",
            "Iters. done: 93 [Current cost: -0.6367252584729324]\n",
            "Iters. done: 94 [Current cost: -0.6369091807759274]\n",
            "Iters. done: 95 [Current cost: -0.6358923615709814]\n",
            "Iters. done: 96 [Current cost: -0.6374055046408706]\n",
            "Iters. done: 97 [Current cost: -0.6449879432951772]\n",
            "Iters. done: 98 [Current cost: -0.646341931913156]\n",
            "Iters. done: 99 [Current cost: -0.6329474251488447]\n",
            "Iters. done: 100 [Current cost: -0.640483532296447]\n",
            "Iters. done: 101 [Current cost: -0.6387821271169515]\n",
            "Iters. done: 102 [Current cost: -0.6444401199777418]\n",
            "Iters. done: 103 [Current cost: -0.624905121027599]\n",
            "Iters. done: 104 [Current cost: -0.6254651227936383]\n",
            "Iters. done: 105 [Current cost: -0.6350106349636292]\n",
            "Iters. done: 106 [Current cost: -0.6452221411408458]\n",
            "Iters. done: 107 [Current cost: -0.6510959797011343]\n",
            "Iters. done: 108 [Current cost: -0.6335108244050601]\n",
            "Iters. done: 109 [Current cost: -0.6463731459675923]\n",
            "Iters. done: 110 [Current cost: -0.6453116341043271]\n",
            "Iters. done: 111 [Current cost: -0.6500434300085539]\n",
            "Iters. done: 112 [Current cost: -0.6498155030176934]\n",
            "Iters. done: 113 [Current cost: -0.6165876514864352]\n",
            "Iters. done: 114 [Current cost: -0.6379032301303812]\n",
            "Iters. done: 115 [Current cost: -0.6238652143915986]\n",
            "Iters. done: 116 [Current cost: -0.6303015369454892]\n",
            "Iters. done: 117 [Current cost: -0.6387276591694434]\n",
            "Iters. done: 118 [Current cost: -0.6216154977895596]\n",
            "Iters. done: 119 [Current cost: -0.6254429094384901]\n",
            "Iters. done: 120 [Current cost: -0.6244723070534346]\n",
            "Iters. done: 121 [Current cost: -0.6331274845209857]\n",
            "Iters. done: 122 [Current cost: -0.6320092007865726]\n",
            "Iters. done: 123 [Current cost: -0.6280195555442015]\n",
            "Iters. done: 124 [Current cost: -0.633118817842713]\n",
            "Iters. done: 125 [Current cost: -0.6545316861761059]\n",
            "Iters. done: 126 [Current cost: -0.6109521608105805]\n",
            "Iters. done: 127 [Current cost: -0.6413687240373942]\n",
            "Iters. done: 128 [Current cost: -0.6329171488537345]\n",
            "Iters. done: 129 [Current cost: -0.6508873536148351]\n",
            "Iters. done: 130 [Current cost: -0.6343396180590694]\n",
            "Iters. done: 131 [Current cost: -0.6453833725535618]\n",
            "Iters. done: 132 [Current cost: -0.6142726913357903]\n",
            "Iters. done: 133 [Current cost: -0.6209357951339112]\n",
            "Iters. done: 134 [Current cost: -0.6316232515088392]\n",
            "Iters. done: 135 [Current cost: -0.6534320416334607]\n",
            "Iters. done: 136 [Current cost: -0.6403781274445913]\n",
            "Iters. done: 137 [Current cost: -0.6472281981296323]\n",
            "Iters. done: 138 [Current cost: -0.6560563807840072]\n",
            "Iters. done: 139 [Current cost: -0.6381191598219642]\n",
            "Iters. done: 140 [Current cost: -0.635047673191689]\n",
            "Iters. done: 141 [Current cost: -0.6346354679202391]\n",
            "Iters. done: 142 [Current cost: -0.6426649674647372]\n",
            "Iters. done: 143 [Current cost: -0.643370774702743]\n",
            "Iters. done: 144 [Current cost: -0.6429365799217991]\n",
            "Iters. done: 145 [Current cost: -0.641164172799006]\n",
            "Iters. done: 146 [Current cost: -0.634701203143904]\n"
          ]
        }
      ],
      "source": [
        "with Session(backend=backend) as session:\n",
        "    estimator = Estimator(mode=session)\n",
        "    estimator.options.default_shots = 10000\n",
        "\n",
        "    res = minimize(\n",
        "        cost_func,\n",
        "        x0,\n",
        "        args=(ansatz_isa, hamiltonian_isa, estimator),\n",
        "        method=\"cobyla\",\n",
        "    )"
      ]
    },
    {
      "cell_type": "markdown",
      "id": "937f5a6e",
      "metadata": {
        "id": "937f5a6e"
      },
      "source": [
        "At the terminus of this routine we have a result in the standard SciPy `OptimizeResult` format.  From this we see that it took `nfev` number of cost function evaluations to obtain the solution vector of parameter angles (`x`) that, when plugged into the ansatz circuit, yield the approximate ground state solution we were looking for.\n"
      ]
    },
    {
      "cell_type": "code",
      "execution_count": null,
      "id": "4e76845a-3fa0-4d12-86b5-de5b2bdee86c",
      "metadata": {
        "id": "4e76845a-3fa0-4d12-86b5-de5b2bdee86c",
        "outputId": "e7e683be-ab35-43f1-83a6-0992abe95b8b"
      },
      "outputs": [
        {
          "data": {
            "text/plain": [
              " message: Optimization terminated successfully.\n",
              " success: True\n",
              "  status: 1\n",
              "     fun: -0.634701203143904\n",
              "       x: [ 2.581e+00  4.153e-01 ...  1.070e+00  3.123e+00]\n",
              "    nfev: 146\n",
              "   maxcv: 0.0"
            ]
          },
          "execution_count": 14,
          "metadata": {},
          "output_type": "execute_result"
        }
      ],
      "source": [
        "res"
      ]
    },
    {
      "cell_type": "markdown",
      "id": "50b94af2",
      "metadata": {
        "id": "50b94af2"
      },
      "source": [
        "## Step 4. Post-process, return result in classical format\n"
      ]
    },
    {
      "cell_type": "markdown",
      "id": "733431ad",
      "metadata": {
        "id": "733431ad"
      },
      "source": [
        "If the procedure terminates correctly, then the `prev_vector` and `iters` values in our `cost_history_dict` dictionary should be equal to the solution vector and total number of function evaluations, respectively.  This is easy to verify:\n"
      ]
    },
    {
      "cell_type": "code",
      "execution_count": null,
      "id": "31dc35ea-6554-4ca7-9c3b-0b5394c46e4e",
      "metadata": {
        "id": "31dc35ea-6554-4ca7-9c3b-0b5394c46e4e",
        "outputId": "ccbd82db-8348-46ab-f23f-865d6909ad34"
      },
      "outputs": [
        {
          "data": {
            "text/plain": [
              "True"
            ]
          },
          "execution_count": 15,
          "metadata": {},
          "output_type": "execute_result"
        }
      ],
      "source": [
        "all(cost_history_dict[\"prev_vector\"] == res.x)"
      ]
    },
    {
      "cell_type": "code",
      "execution_count": null,
      "id": "a90d1664-1728-4a8a-bb11-03f15e3f5639",
      "metadata": {
        "id": "a90d1664-1728-4a8a-bb11-03f15e3f5639",
        "outputId": "b42735c0-d26d-4752-9219-b90ddbebcdd6"
      },
      "outputs": [
        {
          "data": {
            "text/plain": [
              "False"
            ]
          },
          "execution_count": 16,
          "metadata": {},
          "output_type": "execute_result"
        }
      ],
      "source": [
        "cost_history_dict[\"iters\"] == res.nfev"
      ]
    },
    {
      "cell_type": "markdown",
      "id": "19459b48",
      "metadata": {
        "id": "19459b48"
      },
      "source": [
        "We can also now view the progress toward convergence as monitored by the cost history at each iteration:\n"
      ]
    },
    {
      "cell_type": "code",
      "execution_count": null,
      "id": "8501d609",
      "metadata": {
        "id": "8501d609",
        "outputId": "ce0ce010-3430-44be-b4d5-e5fbfbe34ae7"
      },
      "outputs": [
        {
          "data": {
            "image/png": "[encoded data removed]",
            "text/plain": [
              "<Figure size 640x480 with 1 Axes>"
            ]
          },
          "metadata": {},
          "output_type": "display_data"
        }
      ],
      "source": [
        "fig, ax = plt.subplots()\n",
        "ax.plot(range(cost_history_dict[\"iters\"]), cost_history_dict[\"cost_history\"])\n",
        "ax.set_xlabel(\"Iterations\")\n",
        "ax.set_ylabel(\"Cost\")\n",
        "plt.draw()"
      ]
    },
    {
      "cell_type": "markdown",
      "id": "d2958e37",
      "metadata": {
        "id": "d2958e37"
      },
      "source": [
        "## Tutorial Survey\n",
        "\n",
        "<table style=\"width: 100%;\">\n",
        "<tbody>\n",
        "<tr>\n",
        "<td style=\"width: 10%;\"><img src=\"https://learning-api.quantum.ibm.com/assets/53171443-b07b-4ae6-a4be-9aec32a854f5\" alt=\"Survey\" width=\"100%\" height=\"100%\"></td>\n",
        "<td style=\"width: 80%;\"><strong><a title=\"Tutorial Survey\" href=\"https://your.feedback.ibm.com/jfe/form/SV_9AizRyKFHEGzVs2\" target=\"_blank\">Tutorial Survey</a></strong><br>Please take one minute to provide feedback on this tutorial. Your insights will help us improve our content offerings and user experience.</td>\n",
        "</tr>\n",
        "</tbody>\n",
        "</table>\n"
      ]
    }
  ],
  "metadata": {
    "kernelspec": {
      "display_name": "Python 3",
      "language": "python",
      "name": "python3"
    },
    "language_info": {
      "codemirror_mode": {
        "name": "ipython",
        "version": 3
      },
      "file_extension": ".py",
      "mimetype": "text/x-python",
      "name": "python",
      "nbconvert_exporter": "python",
      "pygments_lexer": "ipython3",
      "version": "3.10.5"
    },
    "colab": {
      "provenance": []
    }
  },
  "nbformat": 4,
  "nbformat_minor": 5
}